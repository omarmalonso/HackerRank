{
 "cells": [
  {
   "cell_type": "code",
   "execution_count": 35,
   "id": "8f5c034d",
   "metadata": {},
   "outputs": [
    {
     "name": "stdout",
     "output_type": "stream",
     "text": [
      "2 2 \n",
      "[1 3 4 5]\n"
     ]
    }
   ],
   "source": [
    "import numpy as np\n",
    "n, m = input().strip().split(' ')\n",
    "n = int(n)\n",
    "m = int(m)\n",
    "\n",
    "arr= np.empty(shape = (n,m), dtype=int)\n",
    "a = [1,3]\n",
    "arr = np.append(a,[4,5], axis = 0)\n",
    "print(arr)\n"
   ]
  },
  {
   "cell_type": "code",
   "execution_count": 22,
   "id": "6dc61786",
   "metadata": {},
   "outputs": [
    {
     "name": "stdout",
     "output_type": "stream",
     "text": [
      "2 2\n",
      "1 2 \n",
      "[[ 3458764513820540928 -3458755748891623985]\n",
      " [                   2      562949953421312]]\n"
     ]
    }
   ],
   "source": [
    "for _ in range(n):\n",
    "    row = input().strip().split(' ')\n",
    "    np.append(row,m)\n",
    "\n",
    "\n",
    "print(arr)"
   ]
  },
  {
   "cell_type": "code",
   "execution_count": null,
   "id": "2b8221a2",
   "metadata": {},
   "outputs": [],
   "source": []
  }
 ],
 "metadata": {
  "kernelspec": {
   "display_name": "Python 3",
   "language": "python",
   "name": "python3"
  },
  "language_info": {
   "codemirror_mode": {
    "name": "ipython",
    "version": 3
   },
   "file_extension": ".py",
   "mimetype": "text/x-python",
   "name": "python",
   "nbconvert_exporter": "python",
   "pygments_lexer": "ipython3",
   "version": "3.8.8"
  }
 },
 "nbformat": 4,
 "nbformat_minor": 5
}
