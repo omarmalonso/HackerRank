{
 "cells": [
  {
   "cell_type": "code",
   "execution_count": 80,
   "id": "8f5c034d",
   "metadata": {},
   "outputs": [
    {
     "name": "stdout",
     "output_type": "stream",
     "text": [
      "2 2 \n",
      "1 3\n",
      "4 5\n",
      "[[1 4]\n",
      " [3 5]]\n",
      "[1 3 4 5]\n"
     ]
    }
   ],
   "source": [
    "import numpy as np\n",
    "n, m = map(int, input().split())\n",
    "arr = np.array([])\n",
    "for _ in range(n):\n",
    "    \n",
    "    row = np.array(input().split(' ')).astype(int)\n",
    "    arr = np.append(arr,row)\n",
    "arr = np.reshape(arr,(n,m))\n",
    "print(np.transpose(arr).astype(int))\n",
    "print(arr.flatten().astype(int))"
   ]
  },
  {
   "cell_type": "code",
   "execution_count": 76,
   "id": "42de8886",
   "metadata": {},
   "outputs": [
    {
     "name": "stdout",
     "output_type": "stream",
     "text": [
      "[1. 3. 4. 5.]\n"
     ]
    }
   ],
   "source": [
    "print(arr.flatten())"
   ]
  },
  {
   "cell_type": "code",
   "execution_count": 73,
   "id": "6dc61786",
   "metadata": {},
   "outputs": [
    {
     "name": "stdout",
     "output_type": "stream",
     "text": [
      "[[1. 3.]\n",
      " [4. 5.]]\n"
     ]
    }
   ],
   "source": [
    "print(arr)"
   ]
  },
  {
   "cell_type": "code",
   "execution_count": 59,
   "id": "2b8221a2",
   "metadata": {},
   "outputs": [
    {
     "data": {
      "text/plain": [
       "4"
      ]
     },
     "execution_count": 59,
     "metadata": {},
     "output_type": "execute_result"
    }
   ],
   "source": [
    "np.size(arr)"
   ]
  },
  {
   "cell_type": "code",
   "execution_count": 60,
   "id": "5bde9ab7",
   "metadata": {},
   "outputs": [
    {
     "data": {
      "text/plain": [
       "array([[1., 3.],\n",
       "       [4., 5.]])"
      ]
     },
     "execution_count": 60,
     "metadata": {},
     "output_type": "execute_result"
    }
   ],
   "source": [
    "np.reshape(arr,(n,m))"
   ]
  },
  {
   "cell_type": "code",
   "execution_count": 30,
   "id": "743d75e8",
   "metadata": {},
   "outputs": [
    {
     "data": {
      "text/plain": [
       "4"
      ]
     },
     "execution_count": 30,
     "metadata": {},
     "output_type": "execute_result"
    }
   ],
   "source": [
    "np.size(arr2)"
   ]
  },
  {
   "cell_type": "code",
   "execution_count": 31,
   "id": "4db0b1c0",
   "metadata": {},
   "outputs": [
    {
     "name": "stdout",
     "output_type": "stream",
     "text": [
      "[1 2 3 4]\n"
     ]
    }
   ],
   "source": [
    "print(arr2)"
   ]
  },
  {
   "cell_type": "code",
   "execution_count": 53,
   "id": "cf5300c9",
   "metadata": {},
   "outputs": [
    {
     "data": {
      "text/plain": [
       "array([[1, 2],\n",
       "       [3, 4]])"
      ]
     },
     "execution_count": 53,
     "metadata": {},
     "output_type": "execute_result"
    }
   ],
   "source": [
    "np.reshape(arr2,(2,2))"
   ]
  },
  {
   "cell_type": "code",
   "execution_count": null,
   "id": "53d0eafe",
   "metadata": {},
   "outputs": [],
   "source": []
  }
 ],
 "metadata": {
  "kernelspec": {
   "display_name": "Python 3",
   "language": "python",
   "name": "python3"
  },
  "language_info": {
   "codemirror_mode": {
    "name": "ipython",
    "version": 3
   },
   "file_extension": ".py",
   "mimetype": "text/x-python",
   "name": "python",
   "nbconvert_exporter": "python",
   "pygments_lexer": "ipython3",
   "version": "3.8.8"
  }
 },
 "nbformat": 4,
 "nbformat_minor": 5
}
