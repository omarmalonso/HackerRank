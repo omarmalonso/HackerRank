{
 "cells": [
  {
   "cell_type": "code",
   "execution_count": 1,
   "id": "08b0ac76",
   "metadata": {},
   "outputs": [
    {
     "name": "stdout",
     "output_type": "stream",
     "text": [
      "5\n",
      "harry\n",
      "37.21\n",
      "barry\n",
      "37.21\n",
      "tina\n",
      "37.2\n",
      "akriti\n",
      "41\n",
      "harsh\n",
      "39\n"
     ]
    }
   ],
   "source": [
    "if __name__ == '__main__':\n",
    "    records = []\n",
    "    for _ in range(int(input())):\n",
    "        name = input()\n",
    "        score = float(input())\n",
    "        records.append([name,score])\n",
    "    records = sorted(records, key = lambda x: x[1])\n",
    "    seclow = records[1]"
   ]
  },
  {
   "cell_type": "code",
   "execution_count": 8,
   "id": "a753745b",
   "metadata": {},
   "outputs": [],
   "source": [
    "allscores=[]\n",
    "for x in range(len(records)):\n",
    "    scores = records[x][1]\n",
    "    if scores not in allscores:\n",
    "        allscores.append(scores)\n",
    "allscores"
   ]
  },
  {
   "cell_type": "code",
   "execution_count": 18,
   "id": "66dad102",
   "metadata": {},
   "outputs": [],
   "source": [
    "seclow = allscores[1]"
   ]
  },
  {
   "cell_type": "code",
   "execution_count": 25,
   "id": "8cc49b18",
   "metadata": {},
   "outputs": [
    {
     "name": "stdout",
     "output_type": "stream",
     "text": [
      "false\n",
      "false\n",
      "false\n"
     ]
    }
   ],
   "source": [
    "lowestscorers=[]\n",
    "for x in range(len(records)):\n",
    "    if seclow == records[x][1]:\n",
    "        lowestscorers.append(records[x])\n",
    "    else:\n",
    "        print(\"false\")"
   ]
  },
  {
   "cell_type": "code",
   "execution_count": 27,
   "id": "4d2a506d",
   "metadata": {},
   "outputs": [],
   "source": [
    "lowestscorers = sorted(lowestscorers, key = lambda x: x[0])"
   ]
  },
  {
   "cell_type": "code",
   "execution_count": 36,
   "id": "f78e6c67",
   "metadata": {},
   "outputs": [
    {
     "name": "stdout",
     "output_type": "stream",
     "text": [
      "barry\n",
      "harry\n"
     ]
    }
   ],
   "source": [
    "for x in range(len(lowestscorers)):\n",
    "    print(lowestscorers[x][0])"
   ]
  },
  {
   "cell_type": "code",
   "execution_count": 38,
   "id": "1c49f251",
   "metadata": {},
   "outputs": [
    {
     "name": "stdout",
     "output_type": "stream",
     "text": [
      "5\n",
      "ha\n",
      "32\n",
      "ba\n",
      "32\n",
      "as\n",
      "45\n",
      "as\n",
      "31\n",
      "as\n",
      "56\n"
     ]
    }
   ],
   "source": [
    "if __name__ == '__main__':\n",
    "    records = []\n",
    "    for _ in range(int(input())):\n",
    "        name = input()\n",
    "        score = float(input())\n",
    "        records.append([name,score])\n",
    "    records = sorted(records, key = lambda x: x[1])\n",
    "    seclow = records[1]\n",
    "allscores=[]\n",
    "for x in range(len(records)):\n",
    "    scores = records[x][1]\n",
    "    if scores not in allscores:\n",
    "        allscores.append(scores)\n",
    "allscores\n",
    "seclow = allscores[1]\n",
    "lowestscorers=[]\n",
    "for x in range(len(records)):\n",
    "    if seclow == records[x][1]:\n",
    "        lowestscorers.append(records[x])\n",
    "    else:\n",
    "        print(\"false\")\n",
    "lowestscorers = sorted(lowestscorers, key = lambda x: x[0])\n",
    "for x in range(len(lowestscorers)):\n",
    "    print(lowestscorers[x][0])"
   ]
  },
  {
   "cell_type": "code",
   "execution_count": null,
   "id": "52f80dde",
   "metadata": {},
   "outputs": [],
   "source": []
  }
 ],
 "metadata": {
  "kernelspec": {
   "display_name": "Python 3",
   "language": "python",
   "name": "python3"
  },
  "language_info": {
   "codemirror_mode": {
    "name": "ipython",
    "version": 3
   },
   "file_extension": ".py",
   "mimetype": "text/x-python",
   "name": "python",
   "nbconvert_exporter": "python",
   "pygments_lexer": "ipython3",
   "version": "3.8.8"
  }
 },
 "nbformat": 4,
 "nbformat_minor": 5
}
