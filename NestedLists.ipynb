{
 "cells": [
  {
   "cell_type": "code",
   "execution_count": 1,
   "id": "08b0ac76",
   "metadata": {},
   "outputs": [
    {
     "name": "stdout",
     "output_type": "stream",
     "text": [
      "5\n",
      "harry\n",
      "37.21\n",
      "barry\n",
      "37.21\n",
      "tina\n",
      "37.2\n",
      "akriti\n",
      "41\n",
      "harsh\n",
      "39\n"
     ]
    }
   ],
   "source": [
    "if __name__ == '__main__':\n",
    "    records = []\n",
    "    for _ in range(int(input())):\n",
    "        name = input()\n",
    "        score = float(input())\n",
    "        records.append([name,score])\n",
    "    records = sorted(records, key = lambda x: x[1])\n",
    "    seclow = records[1]\n",
    "allscores=[]\n",
    "for x in range(len(records)):\n",
    "    scores = records[x][1]\n",
    "    if scores not in allscores:\n",
    "        allscores.append(scores)\n",
    "allscores\n",
    "seclow = allscores[1]\n",
    "lowestscorers=[]\n",
    "for x in range(len(records)):\n",
    "    if seclow == records[x][1]:\n",
    "        lowestscorers.append(records[x])\n",
    "lowestscorers = sorted(lowestscorers, key = lambda x: x[0])\n",
    "for x in range(len(lowestscorers)):\n",
    "    print(lowestscorers[x][0])"
   ]
  }
 ],
 "metadata": {
  "kernelspec": {
   "display_name": "Python 3",
   "language": "python",
   "name": "python3"
  },
  "language_info": {
   "codemirror_mode": {
    "name": "ipython",
    "version": 3
   },
   "file_extension": ".py",
   "mimetype": "text/x-python",
   "name": "python",
   "nbconvert_exporter": "python",
   "pygments_lexer": "ipython3",
   "version": "3.8.8"
  }
 },
 "nbformat": 4,
 "nbformat_minor": 5
}
