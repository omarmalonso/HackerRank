{
 "cells": [
  {
   "cell_type": "code",
   "execution_count": 8,
   "id": "1835531d",
   "metadata": {},
   "outputs": [
    {
     "name": "stdout",
     "output_type": "stream",
     "text": [
      "hH\n",
      "hh\n"
     ]
    }
   ],
   "source": [
    "def swap_case(s):\n",
    "    for i in s:\n",
    "        if i.isupper():\n",
    "            s = s.lower()\n",
    "        else:# i.islower():\n",
    "            s = s.upper()\n",
    "    return s\n",
    "\n",
    "if __name__ == '__main__':\n",
    "    s = input()\n",
    "    result = swap_case(s)\n",
    "    print(result)"
   ]
  },
  {
   "cell_type": "code",
   "execution_count": 6,
   "id": "263a6ca9",
   "metadata": {},
   "outputs": [
    {
     "name": "stdout",
     "output_type": "stream",
     "text": [
      "a\n"
     ]
    }
   ],
   "source": [
    "a = 'A'\n",
    "if a.isupper():\n",
    "    a=a.lower()\n",
    "    print(a)"
   ]
  },
  {
   "cell_type": "code",
   "execution_count": 58,
   "id": "a6e8bf99",
   "metadata": {},
   "outputs": [
    {
     "name": "stdout",
     "output_type": "stream",
     "text": [
      "hh\n",
      "HH\n"
     ]
    }
   ],
   "source": [
    "def swap_case(s):\n",
    "    if s.islower():\n",
    "        for i in s:\n",
    "            s = s.upper()\n",
    "        \n",
    "    #elif s.isupper():\n",
    "        #for i in s:\n",
    "            #s = s.lower()\n",
    "    return s\n",
    "\n",
    "\n",
    "if __name__ == '__main__':\n",
    "    s = input()\n",
    "    result = swap_case(s)\n",
    "    print(result)"
   ]
  },
  {
   "cell_type": "code",
   "execution_count": null,
   "id": "9518a497",
   "metadata": {},
   "outputs": [],
   "source": []
  }
 ],
 "metadata": {
  "kernelspec": {
   "display_name": "Python 3",
   "language": "python",
   "name": "python3"
  },
  "language_info": {
   "codemirror_mode": {
    "name": "ipython",
    "version": 3
   },
   "file_extension": ".py",
   "mimetype": "text/x-python",
   "name": "python",
   "nbconvert_exporter": "python",
   "pygments_lexer": "ipython3",
   "version": "3.8.8"
  }
 },
 "nbformat": 4,
 "nbformat_minor": 5
}
