{
 "cells": [
  {
   "cell_type": "code",
   "execution_count": null,
   "id": "f38c7f62",
   "metadata": {},
   "outputs": [
    {
     "name": "stdout",
     "output_type": "stream",
     "text": [
      "5\n"
     ]
    }
   ],
   "source": [
    "import numpy as np\n",
    "if __name__ == '__main__':\n",
    "    n = int(input())\n",
    "    arr = map(int, input().split())\n",
    "\n",
    "    arr = list(arr)\n",
    "    arr.sort()\n",
    "    newarr = []\n",
    "    [newarr.append(x) for x in arr if x not in newarr]\n",
    "    runnerup = newarr[-2]\n",
    "    print(runnerup)"
   ]
  },
  {
   "cell_type": "code",
   "execution_count": 56,
   "id": "b9c803cb",
   "metadata": {},
   "outputs": [
    {
     "name": "stdout",
     "output_type": "stream",
     "text": [
      "5\n"
     ]
    }
   ],
   "source": [
    "newarr = []\n",
    "[newarr.append(x) for x in arr if x not in newarr]\n",
    "runnerup = newarr[-2]\n",
    "print(runnerup)"
   ]
  },
  {
   "cell_type": "code",
   "execution_count": null,
   "id": "dec17d42",
   "metadata": {},
   "outputs": [],
   "source": []
  }
 ],
 "metadata": {
  "kernelspec": {
   "display_name": "Python 3",
   "language": "python",
   "name": "python3"
  },
  "language_info": {
   "codemirror_mode": {
    "name": "ipython",
    "version": 3
   },
   "file_extension": ".py",
   "mimetype": "text/x-python",
   "name": "python",
   "nbconvert_exporter": "python",
   "pygments_lexer": "ipython3",
   "version": "3.8.8"
  }
 },
 "nbformat": 4,
 "nbformat_minor": 5
}
